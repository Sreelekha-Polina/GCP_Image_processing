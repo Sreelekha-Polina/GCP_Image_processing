{
 "cells": [
  {
   "cell_type": "code",
   "execution_count": 1,
   "metadata": {},
   "outputs": [
    {
     "ename": "ModuleNotFoundError",
     "evalue": "No module named 'google'",
     "output_type": "error",
     "traceback": [
      "\u001b[1;31m---------------------------------------------------------------------------\u001b[0m",
      "\u001b[1;31mModuleNotFoundError\u001b[0m                       Traceback (most recent call last)",
      "\u001b[1;32m<ipython-input-1-b472203c747d>\u001b[0m in \u001b[0;36m<module>\u001b[1;34m()\u001b[0m\n\u001b[0;32m      4\u001b[0m \u001b[1;32mimport\u001b[0m \u001b[0mtempfile\u001b[0m\u001b[1;33m\u001b[0m\u001b[0m\n\u001b[0;32m      5\u001b[0m \u001b[1;33m\u001b[0m\u001b[0m\n\u001b[1;32m----> 6\u001b[1;33m \u001b[1;32mfrom\u001b[0m \u001b[0mgoogle\u001b[0m\u001b[1;33m.\u001b[0m\u001b[0mcloud\u001b[0m \u001b[1;32mimport\u001b[0m \u001b[0mstorage\u001b[0m\u001b[1;33m\u001b[0m\u001b[0m\n\u001b[0m\u001b[0;32m      7\u001b[0m \u001b[1;32mfrom\u001b[0m \u001b[0mwand\u001b[0m\u001b[1;33m.\u001b[0m\u001b[0mimage\u001b[0m \u001b[1;32mimport\u001b[0m \u001b[0mImage\u001b[0m\u001b[1;33m\u001b[0m\u001b[0m\n\u001b[0;32m      8\u001b[0m \u001b[1;33m\u001b[0m\u001b[0m\n",
      "\u001b[1;31mModuleNotFoundError\u001b[0m: No module named 'google'"
     ]
    }
   ],
   "source": [
    "import os\n",
    "import tempfile\n",
    "\n",
    "from google.cloud import storage\n",
    "from wand.image import Image\n",
    "\n",
    "storage_client = storage.Client()\n",
    "\n",
    "def Thumbnail(event, context):\n",
    "    \n",
    "    print('Bucket: {}'.format(event['bucket']))\n",
    "    print('File: {}'.format(event['name']))\n",
    "    print('Metageneration: {}'.format(event['metageneration']))\n",
    "    \n",
    "    file_name = event[\"name\"]\n",
    "    bucket_name = event[\"bucket\"]\n",
    "\n",
    "    image_b = storage_client.bucket(bucket_name).get_blob(file_name)\n",
    "    blob_uri = f\"gs://{bucket_name}/{file_name}\"\n",
    "\n",
    "    file_name = blob.name\n",
    "    _, temp_local_filename = tempfile.mkstemp()\n",
    "\n",
    "    print(file_name)\n",
    "    print(temp_local_filename)\n",
    "    image_b.download_to_filename(temp_local_filename)\n",
    "\n",
    "\n",
    "    with Image(filename=temp_local_filename) as image:\n",
    "        image.thumbnail(50, 50) \n",
    "        image.save(filename=temp_local_filename)\n",
    "\n",
    "\n",
    "    #Thumbnail_bucket_name = os.getenv(\"thumbnail_output\")\n",
    "    client = storage.Client.from_service_account_json(json_credentials_path='credentials.json')\n",
    "    print(client)\n",
    "    #Thumbnail_bucket = storage_client.bucket(Thumbnail_bucket_name)\n",
    "    bucket = client.get_bucket('thumbnail_output')\n",
    "    print(bucket)\n",
    "    new_image_b = bucket.blob(file_name)\n",
    "    print(new_blob)\n",
    "\n",
    "    new_image_b.upload_from_filename(temp_local_filename)\n",
    "    \n",
    "    os.remove(temp_local_filename)"
   ]
  },
  {
   "cell_type": "code",
   "execution_count": null,
   "metadata": {},
   "outputs": [],
   "source": []
  }
 ],
 "metadata": {
  "kernelspec": {
   "display_name": "Python 3",
   "language": "python",
   "name": "python3"
  },
  "language_info": {
   "codemirror_mode": {
    "name": "ipython",
    "version": 3
   },
   "file_extension": ".py",
   "mimetype": "text/x-python",
   "name": "python",
   "nbconvert_exporter": "python",
   "pygments_lexer": "ipython3",
   "version": "3.6.5"
  }
 },
 "nbformat": 4,
 "nbformat_minor": 2
}
